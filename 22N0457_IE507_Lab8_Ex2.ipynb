{
  "nbformat": 4,
  "nbformat_minor": 0,
  "metadata": {
    "colab": {
      "provenance": [],
      "collapsed_sections": []
    },
    "kernelspec": {
      "name": "python3",
      "display_name": "Python 3"
    },
    "language_info": {
      "name": "python"
    }
  },
  "cells": [
    {
      "cell_type": "markdown",
      "source": [
        "$\\huge{solution \\ \\ of \\ \\ 2.1}$\n",
        "\n",
        "we have to solve \n",
        "\n",
        "min $ \\sum_{i=1}^{i=6} \\ \\ \\mid Q_i \\mid ^p$  \n",
        "\n",
        "for some $ p \\ge 1$\n",
        "\n",
        "and $Q_i=R_i-\\tilde{R_i}$\n",
        "\n",
        "and $\\tilde{R_i}=a_0+a_1T_i+a_2D_i$\n",
        "\n",
        "$R_i$ = actual revenues\n",
        "\n",
        "$T_i=$  view-time per view\n",
        "\n",
        "$D_i=$  number of unskipped ads per view\n",
        "\n",
        "\n",
        "\n",
        "\n",
        "$\\\\ \\\\ \\\\ \\\\ \\\\ \\\\ \\\\ \\\\ \\\\ \\\\ \\\\ $\n",
        "\n",
        "\n",
        " we can formulate linear programm for p=1 as follow\n",
        "\n",
        " let $a_0$ be a base revenue for videos\n",
        "\n",
        "let $a_1$ be  average view-time\n",
        "\n",
        "let $a_2$ be  average number of unskipped ads\n",
        "\n",
        "min $\\sum_{i=1}^{i=6} (x_{i \\ 0} + x_{i \\ 1})$\n",
        "\n",
        "subjected to \n",
        "\n",
        "$ (x_{i \\ 0} - x_{i \\ 1}) =R_i-(a_0+a_1T_i+a_2D_i)$ $i \\in (1,2,3,4,5,6)$\n",
        "\n",
        "$x_{i \\ j} \\ge 0$ i={1,2,3,4,5,6} j={0,1}\n",
        "\n",
        "$a_0 \\ge 0$\n",
        "\n",
        "$a_1,a_2 \\in \\mathbb{R}$\n",
        "\n",
        "$R_i$ = actual revenues\n",
        "\n",
        "$T_i=$  view-time per view\n",
        "\n",
        "$D_i=$  number of unskipped ads per view\n",
        "\n",
        "here \n",
        " $Q_i=  x_{i \\ 0} - x_{i \\ 1} \\\\ \\\\ and \\mid Q_i \\mid= x_{i \\ 0} + x_{i \\ 1}$\n",
        "\n",
        " $ x_{i \\ 0}=Q_i \\ \\ \\  if \\ \\ \\  Q_i \\ge 0$\n",
        "\n",
        "$ x_{i \\ 0}=0 \\ \\ \\  if \\ \\ \\  Q_i < 0$\n",
        "\n",
        "$ x_{i \\ 1}=0 \\ \\ \\  if \\ \\ \\  Q_i \\ge 0$\n",
        "\n",
        "$ x_{i \\ 1}=-Q_i\\ \\ \\  if \\ \\ \\  Q_i < 0$\n",
        "\n",
        " i={1,2,3,4,5,6}\n",
        "\n",
        "\n"
      ],
      "metadata": {
        "id": "LShWg8WyDKYj"
      }
    },
    {
      "cell_type": "code",
      "execution_count": null,
      "metadata": {
        "id": "oLyhHUs3q_e8"
      },
      "outputs": [],
      "source": [
        "import pandas as pd \n",
        "import numpy as np\n",
        "import matplotlib.pyplot as plt\n",
        "!pip install -q pyomo\n",
        "!apt-get install -y -qq coinor-cbc\n",
        "from pyomo.environ import *\n",
        "!wget -N -q \"https://ampl.com/dl/open/ipopt/ipopt-linux64.zip\"\n",
        "!unzip -o -q ipopt-linux64"
      ]
    },
    {
      "cell_type": "code",
      "source": [
        "data=pd.read_csv('lab8_coef.csv').set_index('video')"
      ],
      "metadata": {
        "id": "wcIwhnafsFWD"
      },
      "execution_count": null,
      "outputs": []
    },
    {
      "cell_type": "code",
      "source": [
        "def lpmodel():\n",
        "  global model\n",
        "  model=ConcreteModel()\n",
        "  model.x=Var(range(6),range(2),domain=NonNegativeReals)\n",
        "  model.y=Var(range(3))\n",
        "  model.y[0].setlb(0)\n",
        "  model.objective=Objective(expr=sum(model.x[i,0]+model.x[i,1]  for i in range(6)),sense=minimize)\n",
        "  model.constraint=ConstraintList()\n",
        "  for i in range(6):\n",
        "    model.constraint.add(data.loc[i+1,'umoney']-model.y[0]-(data.loc[i+1,'total_view_time']/data.loc[i+1,'views'])*model.y[1]-(data.loc[i+1,'total_unskipped_add']/data.loc[i+1,'views'])*model.y[2]==model.x[i,0]-model.x[i,1])"
      ],
      "metadata": {
        "id": "ueoykVZ0rOOq"
      },
      "execution_count": null,
      "outputs": []
    },
    {
      "cell_type": "code",
      "source": [
        "def result():\n",
        "  opt_cbc=SolverFactory('cbc')\n",
        "  result = opt_cbc.solve(model)\n",
        "  print('Solver status:', result.solver.status)\n",
        "  print('Solver termination condition:',result.solver.termination_condition)\n",
        "  print('\\nObjective = ', model.objective())\n",
        "  print(result)\n",
        "  print('a0=',model.y[0].value)\n",
        "  print('a1=',model.y[1].value)\n",
        "  print('a2=',model.y[2].value)\n",
        "  print(model.constraint.display())"
      ],
      "metadata": {
        "id": "WOj42Y1psIC8"
      },
      "execution_count": null,
      "outputs": []
    },
    {
      "cell_type": "code",
      "source": [
        "lpmodel()\n",
        "result()"
      ],
      "metadata": {
        "colab": {
          "base_uri": "https://localhost:8080/"
        },
        "id": "0Y_EhkX6zjR4",
        "outputId": "b6637bcd-64ca-48c4-e92f-9121c0742cf3"
      },
      "execution_count": null,
      "outputs": [
        {
          "output_type": "stream",
          "name": "stdout",
          "text": [
            "Solver status: ok\n",
            "Solver termination condition: optimal\n",
            "\n",
            "Objective =  3986.158757\n",
            "\n",
            "Problem: \n",
            "- Name: unknown\n",
            "  Lower bound: 3986.158705\n",
            "  Upper bound: 3986.158705\n",
            "  Number of objectives: 1\n",
            "  Number of constraints: 7\n",
            "  Number of variables: 16\n",
            "  Number of nonzeros: 12\n",
            "  Sense: minimize\n",
            "Solver: \n",
            "- Status: ok\n",
            "  User time: -1.0\n",
            "  System time: 0.0\n",
            "  Wallclock time: 0.0\n",
            "  Termination condition: optimal\n",
            "  Termination message: Model was solved to optimality (subject to tolerances), and an optimal solution is available.\n",
            "  Statistics: \n",
            "    Branch and bound: \n",
            "      Number of bounded subproblems: None\n",
            "      Number of created subproblems: None\n",
            "    Black box: \n",
            "      Number of iterations: 7\n",
            "  Error rc: 0\n",
            "  Time: 0.019953250885009766\n",
            "Solution: \n",
            "- number of solutions: 0\n",
            "  number of solutions displayed: 0\n",
            "\n",
            "a0= 0.0\n",
            "a1= 4.0039722\n",
            "a2= 8969.6127\n",
            "constraint : Size=6\n",
            "    Key : Lower : Body                    : Upper\n",
            "      1 :   0.0 :   6.984127054465716e-07 :   0.0\n",
            "      2 :   0.0 :   5.048077014180308e-07 :   0.0\n",
            "      3 :   0.0 : -2.7802690283351694e-06 :   0.0\n",
            "      4 :   0.0 :   6.374999657055014e-07 :   0.0\n",
            "      5 :   0.0 :   1.984615387584654e-07 :   0.0\n",
            "      6 :   0.0 :  -4.759240755447536e-05 :   0.0\n",
            "None\n"
          ]
        }
      ]
    },
    {
      "cell_type": "markdown",
      "source": [
        "$\\huge{solution \\ \\ \\ of \\ \\ \\ 2.4}$\n",
        "\n",
        "Solver status: ok\n",
        "\n",
        "Solver termination condition: optimal\n",
        "\n",
        "optimal solution values for the decision variables\n",
        "\n",
        "$a_0$= 0.0\n",
        "\n",
        "$a_1$= 4.0039722\n",
        "\n",
        "$a_2$ = 8969.6127\n",
        "\n",
        "Objective function value =  3986.158757\n",
        "\n",
        "here L1 norm is too big so it is not a good forecasting model we have to check another model according to that model we can see from table below is it better forecast for video 2 and 4 but difference for another forecast is too high like for video 3 it predict 652 more than  actual revenue  also for video 6 it predict 3250 more than actual revenue\n",
        "\n",
        "|video|forecasting revenue for p=1|actual revenue|\n",
        "|---|---|---|\n",
        "|1|230\\.1716555575259|175|\n",
        "|2|450\\.0000000071345|450|\n",
        "|3|398\\.27040314694614|1050|\n",
        "|4|900\\.0000000077011|900|\n",
        "|5|47\\.87680085631402|19|\n",
        "|6|299\\.61934788543334|3550|\n",
        "\n"
      ],
      "metadata": {
        "id": "KJXBwiBjnQxf"
      }
    },
    {
      "cell_type": "markdown",
      "source": [
        "$\\huge{solution \\ \\ of \\ \\ 2.5}$ \n",
        "\n",
        "we can formulate non linear programm as follow\n",
        "\n",
        "let $a_0$ be a base revenue for videos\n",
        "\n",
        "let $a_1$ be  average view-time\n",
        "\n",
        "let $a_2$ be  average number of unskipped ads\n",
        "\n",
        "min $\\sum_{i=1}^{i=6} (x_{i \\ 0} + x_{i \\ 1})^p$\n",
        "\n",
        "for some $ p \\ge 1$\n",
        "\n",
        "subjected to \n",
        "\n",
        "$ (x_{i \\ 0} - x_{i \\ 1}) =R_i-(a_0+a_1T_i+a_2D_i)$ $i \\in (1,2,3,4,5,6)$\n",
        "\n",
        "$x_{i \\ j} \\ge 0$\n",
        "\n",
        " i={1,2,3,4,5,6} $\\ \\ \\ \\ $ j={0,1}\n",
        "\n",
        "$a_0 \\ge 0$\n",
        "\n",
        "$a_1,a_2 \\in \\mathbb{R}$\n",
        "\n",
        "$R_i$ = actual revenues\n",
        "\n",
        "$T_i=$  view-time per view\n",
        "\n",
        "$D_i=$  number of unskipped ads per view\n",
        "\n",
        "here \n",
        " $Q_i=  x_{i \\ 0} - x_{i \\ 1} \\\\ \\\\ and \\mid Q_i \\mid= x_{i \\ 0} + x_{i \\ 1}$\n",
        "\n",
        " $ x_{i \\ 0}=Q_i \\ \\ \\  if \\ \\ \\  Q_i \\ge 0$\n",
        "\n",
        "$ x_{i \\ 0}=0 \\ \\ \\  if \\ \\ \\  Q_i < 0$\n",
        "\n",
        "$ x_{i \\ 1}=0 \\ \\ \\  if \\ \\ \\  Q_i \\ge 0$\n",
        "\n",
        "$ x_{i \\ 1}=-Q_i\\ \\ \\  if \\ \\ \\  Q_i < 0$\n",
        "\n",
        " i={1,2,3,4,5,6}\n",
        "\n",
        "\n",
        "\n",
        "\n",
        "\n",
        "$ \\\\ \\\\ \\\\ \\\\ \\\\ \\\\ \\\\ \\\\ $\n",
        "\n",
        "\n",
        "\n",
        " or we can formulate as \n",
        "\n",
        " let $a_0$ be a base revenue for videos\n",
        "\n",
        "let $a_1$ be  average view-time\n",
        "\n",
        "let $a_2$ be  average number of unskipped ads\n",
        "\n",
        " min $ \\sum_{i=1}^{i=6} \\ \\  (\\sqrt (Q_i^2)) ^p$  \n",
        "\n",
        "for some $ p > 1$\n",
        "\n",
        "and $Q_i=R_i-\\tilde{R_i}$\n",
        "\n",
        "and $\\tilde{R_i}=a_0+a_1T_i+a_2D_i$\n",
        "\n",
        "$R_i$ = actual revenues\n",
        "\n",
        "$T_i=$  view-time per view\n",
        "\n",
        "$D_i=$  number of unskipped ads per view\n",
        "\n",
        " i={1,2,3,4,5,6}\n",
        "\n"
      ],
      "metadata": {
        "id": "VwQu40qeo5X9"
      }
    },
    {
      "cell_type": "code",
      "source": [
        "def non_linear_model(p):\n",
        "  global model2\n",
        "  model2=ConcreteModel()\n",
        "  model2.x=Var(range(6),range(2),domain=NonNegativeReals,initialize=0)\n",
        "  model2.y=Var(range(3),initialize=0)\n",
        "  model2.y[0].setlb(0)\n",
        "  def objective(model2):\n",
        "    return sum((model2.x[i,0]+model2.x[i,1])**p  for i in range(6))\n",
        "  model2.cost=Objective(rule= objective, sense=minimize)\n",
        "  model2.constraint=ConstraintList()\n",
        "  for i in range(6):\n",
        "    model2.constraint.add(data.loc[i+1,'umoney']-model2.y[0]-(data.loc[i+1,'total_view_time']/data.loc[i+1,'views'])*model2.y[1]-(data.loc[i+1,'total_unskipped_add']/data.loc[i+1,'views'])*model2.y[2]-(model2.x[i,0]-model2.x[i,1])==0)"
      ],
      "metadata": {
        "id": "8Br_L74Ps4ky"
      },
      "execution_count": null,
      "outputs": []
    },
    {
      "cell_type": "code",
      "source": [
        "def result1():\n",
        "  solver = SolverFactory('ipopt', executable='/content/ipopt')\n",
        "  results = solver.solve(model2)\n",
        "  print(results)\n",
        "  print('\\nCost = ', model2.cost())\n",
        "  print('x1 = ', model2.y[0].value)\n",
        "  print('x2 = ', model2.y[1]())\n",
        "  print(\"X3 = \",model2.y[2]())\n",
        "  print('\\constraints')\n",
        "  print(model2.constraint.display())"
      ],
      "metadata": {
        "id": "8iM8yxtbx2-a"
      },
      "execution_count": null,
      "outputs": []
    },
    {
      "cell_type": "code",
      "source": [
        "def non_linear_model2(p):\n",
        "  global model3\n",
        "  model3=ConcreteModel()\n",
        "  model3.y=Var(range(3),initialize=0)\n",
        "  model3.y[0].setlb(0)\n",
        "  def obje(model3):\n",
        "    a=sum((((data.loc[i+1,'umoney']-model3.y[0]-(data.loc[i+1,'total_view_time']/data.loc[i+1,'views'])*model3.y[1]-(data.loc[i+1,'total_unskipped_add']/data.loc[i+1,'views'])*model3.y[2])**2)**0.5)**p for i in range(6))\n",
        "    return a\n",
        "  model3.cost=Objective(rule= obje, sense=minimize)\n"
      ],
      "metadata": {
        "id": "cG2q4kkO1NHq"
      },
      "execution_count": null,
      "outputs": []
    },
    {
      "cell_type": "code",
      "source": [
        "def result2():\n",
        "  solver = SolverFactory('ipopt', executable='/content/ipopt')\n",
        "  results = solver.solve(model3)\n",
        "  print(results)\n",
        "  print('\\nCost = ', model3.cost())\n",
        "  print('x1 = ', model3.y[0].value)\n",
        "  print('x2 = ', model3.y[1]())\n",
        "  print(\"X3 = \",model3.y[2]())"
      ],
      "metadata": {
        "id": "dGAn7VEE2NG_"
      },
      "execution_count": null,
      "outputs": []
    },
    {
      "cell_type": "code",
      "source": [
        "non_linear_model(1)\n",
        "result1()"
      ],
      "metadata": {
        "colab": {
          "base_uri": "https://localhost:8080/"
        },
        "id": "IbEFz2170l8V",
        "outputId": "6039f3f4-8206-4d06-8149-b0f98bfb1b62"
      },
      "execution_count": null,
      "outputs": [
        {
          "output_type": "stream",
          "name": "stdout",
          "text": [
            "\n",
            "Problem: \n",
            "- Lower bound: -inf\n",
            "  Upper bound: inf\n",
            "  Number of objectives: 1\n",
            "  Number of constraints: 6\n",
            "  Number of variables: 15\n",
            "  Sense: unknown\n",
            "Solver: \n",
            "- Status: ok\n",
            "  Message: Ipopt 3.12.13\\x3a Optimal Solution Found\n",
            "  Termination condition: optimal\n",
            "  Id: 0\n",
            "  Error rc: 0\n",
            "  Time: 0.027046918869018555\n",
            "Solution: \n",
            "- number of solutions: 0\n",
            "  number of solutions displayed: 0\n",
            "\n",
            "\n",
            "Cost =  3986.158705346472\n",
            "x1 =  0.0\n",
            "x2 =  4.003972194527096\n",
            "X3 =  8969.612711182004\n",
            "\\constraints\n",
            "constraint : Size=6\n",
            "    Key : Lower : Body                    : Upper\n",
            "      1 :   0.0 : -1.4523550362355309e-08 :   0.0\n",
            "      2 :   0.0 :  -7.134474344638875e-09 :   0.0\n",
            "      3 :   0.0 :  2.9707507565035485e-09 :   0.0\n",
            "      4 :   0.0 :   -7.70114638726227e-09 :   0.0\n",
            "      5 :   0.0 : -1.4523557467782666e-08 :   0.0\n",
            "      6 :   0.0 :  2.9704096959903836e-09 :   0.0\n",
            "None\n"
          ]
        }
      ]
    },
    {
      "cell_type": "code",
      "source": [
        "data['forecasting revenue for p=1']=[model2.y[0]()+(data.loc[i+1,'total_view_time']/data.loc[i+1,'views'])*model2.y[1]()+(data.loc[i+1,'total_unskipped_add']/data.loc[i+1,'views'])*model2.y[2]() for i in range(6)]"
      ],
      "metadata": {
        "id": "4BRGuNDoLTrZ"
      },
      "execution_count": null,
      "outputs": []
    },
    {
      "cell_type": "code",
      "source": [
        "norm1=model2.cost()"
      ],
      "metadata": {
        "id": "nqGlCDUOa9BE"
      },
      "execution_count": null,
      "outputs": []
    },
    {
      "cell_type": "code",
      "source": [
        "non_linear_model(1.5)\n",
        "result1()"
      ],
      "metadata": {
        "colab": {
          "base_uri": "https://localhost:8080/"
        },
        "id": "nTCOlsg40ywW",
        "outputId": "b2371d6b-8c54-4cbb-cb4f-10a98e39d3cd"
      },
      "execution_count": null,
      "outputs": [
        {
          "output_type": "stream",
          "name": "stdout",
          "text": [
            "\n",
            "Problem: \n",
            "- Lower bound: -inf\n",
            "  Upper bound: inf\n",
            "  Number of objectives: 1\n",
            "  Number of constraints: 6\n",
            "  Number of variables: 15\n",
            "  Sense: unknown\n",
            "Solver: \n",
            "- Status: ok\n",
            "  Message: Ipopt 3.12.13\\x3a Optimal Solution Found\n",
            "  Termination condition: optimal\n",
            "  Id: 0\n",
            "  Error rc: 0\n",
            "  Time: 0.03595614433288574\n",
            "Solution: \n",
            "- number of solutions: 0\n",
            "  number of solutions displayed: 0\n",
            "\n",
            "\n",
            "Cost =  188066.9241150718\n",
            "x1 =  503.74059414042114\n",
            "x2 =  2.723599510232543\n",
            "X3 =  4802.719658714405\n",
            "\\constraints\n",
            "constraint : Size=6\n",
            "    Key : Lower : Body                   : Upper\n",
            "      1 :   0.0 : -9.960842817235971e-09 :   0.0\n",
            "      2 :   0.0 : -9.951577339961659e-09 :   0.0\n",
            "      3 :   0.0 :   9.95379423329723e-09 :   0.0\n",
            "      4 :   0.0 : -9.921137689161696e-09 :   0.0\n",
            "      5 :   0.0 : -9.963059710571542e-09 :   0.0\n",
            "      6 :   0.0 :  9.984432836063206e-09 :   0.0\n",
            "None\n"
          ]
        }
      ]
    },
    {
      "cell_type": "code",
      "source": [
        "norm1_5=model2.cost()**(1/1.5)"
      ],
      "metadata": {
        "id": "vlbztef2YifT"
      },
      "execution_count": null,
      "outputs": []
    },
    {
      "cell_type": "code",
      "source": [
        "data['forecasting revenue for p=1.5']=[model2.y[0]()+(data.loc[i+1,'total_view_time']/data.loc[i+1,'views'])*model2.y[1]()+(data.loc[i+1,'total_unskipped_add']/data.loc[i+1,'views'])*model2.y[2]() for i in range(6)]"
      ],
      "metadata": {
        "id": "w5LOlx7-I-t9"
      },
      "execution_count": null,
      "outputs": []
    },
    {
      "cell_type": "code",
      "source": [
        "non_linear_model(2)\n",
        "result1()"
      ],
      "metadata": {
        "colab": {
          "base_uri": "https://localhost:8080/"
        },
        "id": "5PQIygen080i",
        "outputId": "eae70a74-1a9a-444d-bf06-1c09cfc7acd5"
      },
      "execution_count": null,
      "outputs": [
        {
          "output_type": "stream",
          "name": "stdout",
          "text": [
            "\n",
            "Problem: \n",
            "- Lower bound: -inf\n",
            "  Upper bound: inf\n",
            "  Number of objectives: 1\n",
            "  Number of constraints: 6\n",
            "  Number of variables: 15\n",
            "  Sense: unknown\n",
            "Solver: \n",
            "- Status: ok\n",
            "  Message: Ipopt 3.12.13\\x3a Optimal Solution Found\n",
            "  Termination condition: optimal\n",
            "  Id: 0\n",
            "  Error rc: 0\n",
            "  Time: 0.028303146362304688\n",
            "Solution: \n",
            "- number of solutions: 0\n",
            "  number of solutions displayed: 0\n",
            "\n",
            "\n",
            "Cost =  8399946.937008213\n",
            "x1 =  884.3228471774885\n",
            "x2 =  1.8562371587260271\n",
            "X3 =  3097.0698798873823\n",
            "\\constraints\n",
            "constraint : Size=6\n",
            "    Key : Lower : Body                   : Upper\n",
            "      1 :   0.0 : -9.999098438129295e-09 :   0.0\n",
            "      2 :   0.0 : -9.998871064453851e-09 :   0.0\n",
            "      3 :   0.0 :  9.971763859084604e-09 :   0.0\n",
            "      4 :   0.0 : -9.997904726333218e-09 :   0.0\n",
            "      5 :   0.0 : -9.999325811804738e-09 :   0.0\n",
            "      6 :   0.0 :  9.999894245993346e-09 :   0.0\n",
            "None\n"
          ]
        }
      ]
    },
    {
      "cell_type": "markdown",
      "source": [
        "$\\huge{ solution \\ \\  \\ of  \\ \\ \\ 2.7}$\n",
        "\n",
        "for p=1.5\n",
        "\n",
        "solver status: ok\n",
        "\n",
        "Termination condition: optimal\n",
        "\n",
        " time taken by solver : 0.07307767868041992\n",
        "\n",
        "objective function value =  188066.9241150718\n",
        "\n",
        "a0 =  503.74059414042114\n",
        "\n",
        "\n",
        "a1 =  2.723599510232543\n",
        "\n",
        "\n",
        "a2 =  4802.719658714405\n",
        "\n",
        "for p=2\n",
        "\n",
        "solver status: ok\n",
        "\n",
        "Termination condition: optimal\n",
        "\n",
        " time taken by solver : 0.04479360580444336\n",
        "\n",
        " objective function value  =  8399946.937008213\n",
        "\n",
        "a0 =  884.3228471774885\n",
        "\n",
        "\n",
        "a1 =  1.8562371587260271\n",
        "\n",
        "\n",
        "a2 =  3097.0698798873823\n",
        "\n",
        "here a0 value increases  a1 value is decreases  and a2  value decreases for p=1.5 compare to p=2\n",
        "\n",
        "we want to minimize the difference of actual revenue and forecasting revenue for each case for that we taken $L^p$ norm and want to check if we change the value of p is we get better approximation \n",
        "\n",
        "for p=1 we get $L^1$ norm  of differnce of actual revenue and forecasting revenue as 3986.158705346472\n",
        "\n",
        "for p=1.5 we can find by taking $(1/p)^{th}$ power of our objective and we get \n",
        "$L^{1.5}$ norm of differnce of actual revenue and forecasting revenue as 3282.526803990223\n",
        "\n",
        "for p=2 we can find by taking $(1/p)^{th}$ power of our objective and we get \n",
        "$L^2$  norm of differnce of actual revenue and forecasting revenue as 2898.2661949876538\n",
        "\n",
        "since when p=2 we get better approximation among them so we can say p=2 better approximate because $L^2$ norm of differnce of actual revenue and forecasting revenue is less than another $L^P$ norm for p=1,p=1.5 but no one among them good fit to our data\n",
        "\n",
        "L1 NORM=3986.158705346472\n",
        "\n",
        "L1.5 NORM=3282.526803990223\n",
        "\n",
        "L2 NORM=2898.2661949876538\n",
        "\n",
        "|video|forecasting revenue for p=1\\.5|forecasting revenue for p=2|actual revenue|\n",
        "|---|---|---|---|\n",
        "|1|628\\.7021081923602|965\\.2012294863167|175|\n",
        "|2|747\\.4074504366749|1041\\.9215492382177|450|\n",
        "|3|724\\.1839230813847|1027\\.7168461229264|1050|\n",
        "|4|1012\\.0521695225439|1216\\.6632431129337|900|\n",
        "|5|529\\.6479224168348|901\\.0762604078004|19|\n",
        "|6|668\\.6290117130712|991\\.420871671806|3550|\n",
        "\n",
        "we can see from table p=1.5 does not better predict for anyone but its difference is less than p=1\n",
        "\n",
        "also for p=2 it better predict for video 3 and difference is less than another two \n",
        "\n",
        "\n"
      ],
      "metadata": {
        "id": "nsDEGdXkrY1-"
      }
    },
    {
      "cell_type": "code",
      "source": [
        "norm2=model2.cost()**(1/2)"
      ],
      "metadata": {
        "id": "kyzA-VliYzMd"
      },
      "execution_count": null,
      "outputs": []
    },
    {
      "cell_type": "code",
      "source": [
        "print(norm1)\n",
        "print(norm1_5)\n",
        "print(norm2)"
      ],
      "metadata": {
        "colab": {
          "base_uri": "https://localhost:8080/"
        },
        "id": "K20Bs4Yva9YK",
        "outputId": "d9bd5ba4-7401-417a-f9ff-4a94d9d0654c"
      },
      "execution_count": null,
      "outputs": [
        {
          "output_type": "stream",
          "name": "stdout",
          "text": [
            "3986.158705346472\n",
            "3282.526803990223\n",
            "2898.2661949876538\n"
          ]
        }
      ]
    },
    {
      "cell_type": "code",
      "source": [
        "data['forecasting revenue for p=2']=[model2.y[0]()+(data.loc[i+1,'total_view_time']/data.loc[i+1,'views'])*model2.y[1]()+(data.loc[i+1,'total_unskipped_add']/data.loc[i+1,'views'])*model2.y[2]() for i in range(6)]"
      ],
      "metadata": {
        "id": "yizzN5dTLhvk"
      },
      "execution_count": null,
      "outputs": []
    },
    {
      "cell_type": "code",
      "source": [
        "non_linear_model2(1.5)\n",
        "result2()"
      ],
      "metadata": {
        "colab": {
          "base_uri": "https://localhost:8080/"
        },
        "id": "XXLe778B2dRU",
        "outputId": "71a7d2cf-62d4-4c48-db47-4a6d37fb4858"
      },
      "execution_count": null,
      "outputs": [
        {
          "output_type": "stream",
          "name": "stdout",
          "text": [
            "\n",
            "Problem: \n",
            "- Lower bound: -inf\n",
            "  Upper bound: inf\n",
            "  Number of objectives: 1\n",
            "  Number of constraints: 0\n",
            "  Number of variables: 3\n",
            "  Sense: unknown\n",
            "Solver: \n",
            "- Status: ok\n",
            "  Message: Ipopt 3.12.13\\x3a Optimal Solution Found\n",
            "  Termination condition: optimal\n",
            "  Id: 0\n",
            "  Error rc: 0\n",
            "  Time: 0.026402950286865234\n",
            "Solution: \n",
            "- number of solutions: 0\n",
            "  number of solutions displayed: 0\n",
            "\n",
            "\n",
            "Cost =  188066.9241172161\n",
            "x1 =  503.74059413891104\n",
            "x2 =  2.723599510289136\n",
            "X3 =  4802.719658504945\n"
          ]
        }
      ]
    },
    {
      "cell_type": "code",
      "source": [
        "non_linear_model2(2)\n",
        "result2()"
      ],
      "metadata": {
        "colab": {
          "base_uri": "https://localhost:8080/"
        },
        "id": "YFwsstbN2dcz",
        "outputId": "d432c518-0cfd-473c-d2aa-90f8d34bbff2"
      },
      "execution_count": null,
      "outputs": [
        {
          "output_type": "stream",
          "name": "stdout",
          "text": [
            "\n",
            "Problem: \n",
            "- Lower bound: -inf\n",
            "  Upper bound: inf\n",
            "  Number of objectives: 1\n",
            "  Number of constraints: 0\n",
            "  Number of variables: 3\n",
            "  Sense: unknown\n",
            "Solver: \n",
            "- Status: ok\n",
            "  Message: Ipopt 3.12.13\\x3a Optimal Solution Found\n",
            "  Termination condition: optimal\n",
            "  Id: 0\n",
            "  Error rc: 0\n",
            "  Time: 0.022559642791748047\n",
            "Solution: \n",
            "- number of solutions: 0\n",
            "  number of solutions displayed: 0\n",
            "\n",
            "\n",
            "Cost =  8399946.937111441\n",
            "x1 =  884.3228471753496\n",
            "x2 =  1.8562371587217374\n",
            "X3 =  3097.0698797791943\n"
          ]
        }
      ]
    },
    {
      "cell_type": "code",
      "source": [
        "data.rename(columns={'umoney':'actual revenue'},inplace=True)"
      ],
      "metadata": {
        "id": "SnbdpWOPo_vu"
      },
      "execution_count": null,
      "outputs": []
    },
    {
      "cell_type": "code",
      "source": [
        "data.loc[:,['actual revenue','forecasting revenue for p=1']].plot(kind='bar',ylabel='revenue')\n",
        "data.loc[:,['actual revenue','forecasting revenue for p=1.5']].plot(kind='bar',ylabel='revenue')\n",
        "data.loc[:,['actual revenue','forecasting revenue for p=2']].plot(kind='bar',ylabel='revenue')"
      ],
      "metadata": {
        "colab": {
          "base_uri": "https://localhost:8080/",
          "height": 811
        },
        "id": "Y7-HVIKt3a13",
        "outputId": "79ae810b-8042-43ee-ea15-549e1cc50f1e"
      },
      "execution_count": null,
      "outputs": [
        {
          "output_type": "execute_result",
          "data": {
            "text/plain": [
              "<matplotlib.axes._subplots.AxesSubplot at 0x7fea4d17ec10>"
            ]
          },
          "metadata": {},
          "execution_count": 57
        },
        {
          "output_type": "display_data",
          "data": {
            "text/plain": [
              "<Figure size 432x288 with 1 Axes>"
            ],
            "image/png": "[encoded data removed]"
          },
          "metadata": {
            "needs_background": "light"
          }
        },
        {
          "output_type": "display_data",
          "data": {
            "text/plain": [
              "<Figure size 432x288 with 1 Axes>"
            ],
            "image/png": "[encoded data removed]"
          },
          "metadata": {
            "needs_background": "light"
          }
        },
        {
          "output_type": "display_data",
          "data": {
            "text/plain": [
              "<Figure size 432x288 with 1 Axes>"
            ],
            "image/png": "[encoded data removed]"
          },
          "metadata": {
            "needs_background": "light"
          }
        }
      ]
    },
    {
      "cell_type": "code",
      "source": [
        "data.loc[:,['actual revenue','forecasting revenue for p=1','forecasting revenue for p=1.5','forecasting revenue for p=2']].plot(kind='bar',ylabel='revenue')"
      ],
      "metadata": {
        "colab": {
          "base_uri": "https://localhost:8080/",
          "height": 293
        },
        "id": "uhveKv63trTY",
        "outputId": "f6be37e7-238a-4c6e-b804-f9533af0bec8"
      },
      "execution_count": null,
      "outputs": [
        {
          "output_type": "execute_result",
          "data": {
            "text/plain": [
              "<matplotlib.axes._subplots.AxesSubplot at 0x7fea4e78f110>"
            ]
          },
          "metadata": {},
          "execution_count": 58
        },
        {
          "output_type": "display_data",
          "data": {
            "text/plain": [
              "<Figure size 432x288 with 1 Axes>"
            ],
            "image/png": "[encoded data removed]"
          },
          "metadata": {
            "needs_background": "light"
          }
        }
      ]
    },
    {
      "cell_type": "markdown",
      "source": [
        "$ \\huge{solution \\ \\ of \\ \\ 2.8}$\n",
        "\n",
        "according to graph clearly forecast model is not good fit for given data  may be linear model for forecast revenue is not followed by utube something else follow by utube but if linear model is good then may require some more data for predict \n",
        "\n",
        "because for any p difference of actual revenue and forecast revenue for p=6 is too high compare to other \n",
        "\n",
        "for p=1 it better predict for video 2 and 4\n",
        "\n",
        "but if we concider some video as outlier then p=1 better predict \n",
        "\n",
        "for p=1.5 it better predict for video 4 and difference for video 6 is less compare to  p=1\n",
        "\n",
        "for p=2  it better predict for video 3 and  total diffference is less compare to other so we can say 2 is overall better predict for p=1 it predict better for some video but it difference for video 6 is too high so it is not a good forecasting\n",
        "\n",
        "\n",
        "  overall we can say that p=2 batter predict compare to other\n",
        "\n"
      ],
      "metadata": {
        "id": "JrhSUt-quP3k"
      }
    },
    {
      "cell_type": "code",
      "source": [
        "data.loc[:,['actual revenue','forecasting revenue for p=1','forecasting revenue for p=1.5','forecasting revenue for p=2']]"
      ],
      "metadata": {
        "colab": {
          "base_uri": "https://localhost:8080/",
          "height": 236
        },
        "id": "AvtUILp-561j",
        "outputId": "0de4d7b3-1dae-4e9f-db04-86f53ebdead3"
      },
      "execution_count": null,
      "outputs": [
        {
          "output_type": "execute_result",
          "data": {
            "text/plain": [
              "       actual revenue  forecasting revenue for p=1  \\\n",
              "video                                                \n",
              "1                 175                   230.171656   \n",
              "2                 450                   450.000000   \n",
              "3                1050                   398.270403   \n",
              "4                 900                   900.000000   \n",
              "5                  19                    47.876801   \n",
              "6                3550                   299.619348   \n",
              "\n",
              "       forecasting revenue for p=1.5  forecasting revenue for p=2  \n",
              "video                                                              \n",
              "1                         628.702108                   965.201229  \n",
              "2                         747.407450                  1041.921549  \n",
              "3                         724.183923                  1027.716846  \n",
              "4                        1012.052170                  1216.663243  \n",
              "5                         529.647922                   901.076260  \n",
              "6                         668.629012                   991.420872  "
            ],
            "text/html": [
              "\n",
              "  <div id=\"df-8473bc65-2ca3-4d8c-b1bf-d2fedd6dcca1\">\n",
              "    <div class=\"colab-df-container\">\n",
              "      <div>\n",
              "<style scoped>\n",
              "    .dataframe tbody tr th:only-of-type {\n",
              "        vertical-align: middle;\n",
              "    }\n",
              "\n",
              "    .dataframe tbody tr th {\n",
              "        vertical-align: top;\n",
              "    }\n",
              "\n",
              "    .dataframe thead th {\n",
              "        text-align: right;\n",
              "    }\n",
              "</style>\n",
              "<table border=\"1\" class=\"dataframe\">\n",
              "  <thead>\n",
              "    <tr style=\"text-align: right;\">\n",
              "      <th></th>\n",
              "      <th>actual revenue</th>\n",
              "      <th>forecasting revenue for p=1</th>\n",
              "      <th>forecasting revenue for p=1.5</th>\n",
              "      <th>forecasting revenue for p=2</th>\n",
              "    </tr>\n",
              "    <tr>\n",
              "      <th>video</th>\n",
              "      <th></th>\n",
              "      <th></th>\n",
              "      <th></th>\n",
              "      <th></th>\n",
              "    </tr>\n",
              "  </thead>\n",
              "  <tbody>\n",
              "    <tr>\n",
              "      <th>1</th>\n",
              "      <td>175</td>\n",
              "      <td>230.171656</td>\n",
              "      <td>628.702108</td>\n",
              "      <td>965.201229</td>\n",
              "    </tr>\n",
              "    <tr>\n",
              "      <th>2</th>\n",
              "      <td>450</td>\n",
              "      <td>450.000000</td>\n",
              "      <td>747.407450</td>\n",
              "      <td>1041.921549</td>\n",
              "    </tr>\n",
              "    <tr>\n",
              "      <th>3</th>\n",
              "      <td>1050</td>\n",
              "      <td>398.270403</td>\n",
              "      <td>724.183923</td>\n",
              "      <td>1027.716846</td>\n",
              "    </tr>\n",
              "    <tr>\n",
              "      <th>4</th>\n",
              "      <td>900</td>\n",
              "      <td>900.000000</td>\n",
              "      <td>1012.052170</td>\n",
              "      <td>1216.663243</td>\n",
              "    </tr>\n",
              "    <tr>\n",
              "      <th>5</th>\n",
              "      <td>19</td>\n",
              "      <td>47.876801</td>\n",
              "      <td>529.647922</td>\n",
              "      <td>901.076260</td>\n",
              "    </tr>\n",
              "    <tr>\n",
              "      <th>6</th>\n",
              "      <td>3550</td>\n",
              "      <td>299.619348</td>\n",
              "      <td>668.629012</td>\n",
              "      <td>991.420872</td>\n",
              "    </tr>\n",
              "  </tbody>\n",
              "</table>\n",
              "</div>\n",
              "      <button class=\"colab-df-convert\" onclick=\"convertToInteractive('df-8473bc65-2ca3-4d8c-b1bf-d2fedd6dcca1')\"\n",
              "              title=\"Convert this dataframe to an interactive table.\"\n",
              "              style=\"display:none;\">\n",
              "        \n",
              "  <svg xmlns=\"http://www.w3.org/2000/svg\" height=\"24px\"viewBox=\"0 0 24 24\"\n",
              "       width=\"24px\">\n",
              "    <path d=\"M0 0h24v24H0V0z\" fill=\"none\"/>\n",
              "    <path d=\"M18.56 5.44l.94 2.06.94-2.06 2.06-.94-2.06-.94-.94-2.06-.94 2.06-2.06.94zm-11 1L8.5 8.5l.94-2.06 2.06-.94-2.06-.94L8.5 2.5l-.94 2.06-2.06.94zm10 10l.94 2.06.94-2.06 2.06-.94-2.06-.94-.94-2.06-.94 2.06-2.06.94z\"/><path d=\"M17.41 7.96l-1.37-1.37c-.4-.4-.92-.59-1.43-.59-.52 0-1.04.2-1.43.59L10.3 9.45l-7.72 7.72c-.78.78-.78 2.05 0 2.83L4 21.41c.39.39.9.59 1.41.59.51 0 1.02-.2 1.41-.59l7.78-7.78 2.81-2.81c.8-.78.8-2.07 0-2.86zM5.41 20L4 18.59l7.72-7.72 1.47 1.35L5.41 20z\"/>\n",
              "  </svg>\n",
              "      </button>\n",
              "      \n",
              "  <style>\n",
              "    .colab-df-container {\n",
              "      display:flex;\n",
              "      flex-wrap:wrap;\n",
              "      gap: 12px;\n",
              "    }\n",
              "\n",
              "    .colab-df-convert {\n",
              "      background-color: #E8F0FE;\n",
              "      border: none;\n",
              "      border-radius: 50%;\n",
              "      cursor: pointer;\n",
              "      display: none;\n",
              "      fill: #1967D2;\n",
              "      height: 32px;\n",
              "      padding: 0 0 0 0;\n",
              "      width: 32px;\n",
              "    }\n",
              "\n",
              "    .colab-df-convert:hover {\n",
              "      background-color: #E2EBFA;\n",
              "      box-shadow: 0px 1px 2px rgba(60, 64, 67, 0.3), 0px 1px 3px 1px rgba(60, 64, 67, 0.15);\n",
              "      fill: #174EA6;\n",
              "    }\n",
              "\n",
              "    [theme=dark] .colab-df-convert {\n",
              "      background-color: #3B4455;\n",
              "      fill: #D2E3FC;\n",
              "    }\n",
              "\n",
              "    [theme=dark] .colab-df-convert:hover {\n",
              "      background-color: #434B5C;\n",
              "      box-shadow: 0px 1px 3px 1px rgba(0, 0, 0, 0.15);\n",
              "      filter: drop-shadow(0px 1px 2px rgba(0, 0, 0, 0.3));\n",
              "      fill: #FFFFFF;\n",
              "    }\n",
              "  </style>\n",
              "\n",
              "      <script>\n",
              "        const buttonEl =\n",
              "          document.querySelector('#df-8473bc65-2ca3-4d8c-b1bf-d2fedd6dcca1 button.colab-df-convert');\n",
              "        buttonEl.style.display =\n",
              "          google.colab.kernel.accessAllowed ? 'block' : 'none';\n",
              "\n",
              "        async function convertToInteractive(key) {\n",
              "          const element = document.querySelector('#df-8473bc65-2ca3-4d8c-b1bf-d2fedd6dcca1');\n",
              "          const dataTable =\n",
              "            await google.colab.kernel.invokeFunction('convertToInteractive',\n",
              "                                                     [key], {});\n",
              "          if (!dataTable) return;\n",
              "\n",
              "          const docLinkHtml = 'Like what you see? Visit the ' +\n",
              "            '<a target=\"_blank\" href=https://colab.research.google.com/notebooks/data_table.ipynb>data table notebook</a>'\n",
              "            + ' to learn more about interactive tables.';\n",
              "          element.innerHTML = '';\n",
              "          dataTable['output_type'] = 'display_data';\n",
              "          await google.colab.output.renderOutput(dataTable, element);\n",
              "          const docLink = document.createElement('div');\n",
              "          docLink.innerHTML = docLinkHtml;\n",
              "          element.appendChild(docLink);\n",
              "        }\n",
              "      </script>\n",
              "    </div>\n",
              "  </div>\n",
              "  "
            ]
          },
          "metadata": {},
          "execution_count": 59
        }
      ]
    },
    {
      "cell_type": "markdown",
      "source": [
        "$ \\huge{solution \\ \\ of \\ \\ 2.9}$\n",
        "\n",
        "for p=1 it better predict for video 2 and 4\n",
        "\n",
        "for p=1.5 it better predict for video 4 and difference for video 6 is less compare to p=1\n",
        "\n",
        "for p=2  it better predict for video 3 total diffference is less compare to other so we can say 2 is overall better predict but p=1 better predict for more video so p=1 is also batter predictor but it also very bad predictor for some of them like video 6\n",
        "\n",
        "we want to minimize the differnce of actual revenue and forecasting revenue for each case for that we taken $L^p$ norm and want to check if we change the value of p is we get better approximation \n",
        "\n",
        "for p=1 we get $L^1$ norm  of differnce of actual revenue and forecasting revenue as 3986.158705346472\n",
        "\n",
        "if we concider some video as outlier then p=1 better predict\n",
        "\n",
        "for p=1.5 we can find by taking $(1/p)^{th}$ power of our objective and we get \n",
        "$L^{1.5}$ norm of differnce of actual revenue and forecasting revenue as 3282.526803990223\n",
        "\n",
        "for p=2 we can find by taking $(1/p)^{th}$ power of our objective and we get \n",
        "$L^2$  norm of differnce of actual revenue and forecasting revenue as 2898.2661949876538\n",
        "\n",
        "since when p=2 we get better approximation among them so we can say p=2 better approximate because $L^2$ norm of differnce of actual revenue and forecasting revenue is less than another $L^P$ norm for p=1,p=1.5 but no one among them good fit to our data\n",
        "\n",
        "\n",
        "L1 NORM=3986.158705346472\n",
        "\n",
        "L1.5 NORM=3282.526803990223\n",
        "\n",
        "L2 NORM=2898.2661949876538\n",
        "\n",
        "|video|actual revenue|forecasting revenue for p=1|forecasting revenue for p=1\\.5|forecasting revenue for p=2|\n",
        "|---|---|---|---|---|\n",
        "|1|175|230\\.1716555575259|628\\.7021081923602|965\\.2012294863167|\n",
        "|2|450|450\\.0000000071345|747\\.4074504366749|1041\\.9215492382177|\n",
        "|3|1050|398\\.27040314694614|724\\.1839230813847|1027\\.7168461229264|\n",
        "|4|900|900\\.0000000077011|1012\\.0521695225439|1216\\.6632431129337|\n",
        "|5|19|47\\.87680085631402|529\\.6479224168348|901\\.0762604078004|\n",
        "|6|3550|299\\.61934788543334|668\\.6290117130712|991\\.420871671806|\n",
        "\n",
        "\n",
        "\n",
        "\n",
        "so p=2 is good for our problem"
      ],
      "metadata": {
        "id": "ueEUCzuj0vKW"
      }
    }
  ]
}